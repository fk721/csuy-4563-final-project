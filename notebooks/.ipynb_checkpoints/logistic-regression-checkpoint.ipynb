{
 "cells": [
  {
   "cell_type": "markdown",
   "metadata": {},
   "source": [
    "# Importing the Necessary Libraries"
   ]
  },
  {
   "cell_type": "code",
   "execution_count": 1,
   "metadata": {},
   "outputs": [],
   "source": [
    "import numpy as np\n",
    "import pandas as pd\n",
    "from sklearn import preprocessing\n",
    "from sklearn.model_selection import train_test_split\n",
    "from sklearn.linear_model import LogisticRegression\n",
    "from sklearn.preprocessing import PolynomialFeatures\n",
    "import matplotlib.pyplot as plt\n",
    "import warnings\n",
    "warnings.filterwarnings('ignore')"
   ]
  },
  {
   "cell_type": "markdown",
   "metadata": {},
   "source": [
    "# Reading the Preprocessed Data"
   ]
  },
  {
   "cell_type": "code",
   "execution_count": 2,
   "metadata": {},
   "outputs": [
    {
     "data": {
      "text/plain": [
       "(44266, 16)"
      ]
     },
     "execution_count": 2,
     "metadata": {},
     "output_type": "execute_result"
    }
   ],
   "source": [
    "df = pd.read_csv('../csv_files/count_vectorized_text.csv')\n",
    "df.shape"
   ]
  },
  {
   "cell_type": "code",
   "execution_count": 3,
   "metadata": {},
   "outputs": [],
   "source": [
    "OUTPUT_DIR = \"../figures/logistic-regression/\""
   ]
  },
  {
   "cell_type": "code",
   "execution_count": 4,
   "metadata": {},
   "outputs": [
    {
     "name": "stdout",
     "output_type": "stream",
     "text": [
      "The shape of X: (44266, 15)\n",
      "The shape of Y: (44266,)\n"
     ]
    }
   ],
   "source": [
    "num_features = df.shape[1] - 1\n",
    "df1 = df.values\n",
    "X = df1[:, :num_features]\n",
    "X = preprocessing.scale(X)\n",
    "Y = df1[:,num_features:]\n",
    "Y = np.reshape(Y, (Y.shape[0], ))\n",
    "print(\"The shape of X:\",X.shape)\n",
    "print(\"The shape of Y:\",Y.shape)"
   ]
  },
  {
   "cell_type": "code",
   "execution_count": 5,
   "metadata": {},
   "outputs": [],
   "source": [
    "x_train, x_test, y_train, y_test = train_test_split(X, Y, test_size = 0.25, shuffle=True)"
   ]
  },
  {
   "cell_type": "markdown",
   "metadata": {},
   "source": [
    "# Logistic Regression\n",
    "Pieces/inspriation of the following code are taken from *Homework Assignment 5*."
   ]
  },
  {
   "cell_type": "code",
   "execution_count": 6,
   "metadata": {},
   "outputs": [],
   "source": [
    "def plot_graph(title, x, y1, y2):\n",
    "    plt.title(title)\n",
    "    plt.ylim([0.50, 0.90])\n",
    "    plt.xlabel(\"C\")\n",
    "    plt.ylabel(\"Accuracy\")\n",
    "    plt.plot(x, y1)\n",
    "    plt.plot(x, y2)\n",
    "    plt.xscale(\"log\")\n",
    "    plt.legend(['Training Accuracy', 'Test Accuracy'], loc='lower right')\n",
    "    plt.savefig(OUTPUT_DIR + title.replace(\" \", \"-\") + \".png\", dpi=500)\n",
    "    plt.show()"
   ]
  },
  {
   "cell_type": "markdown",
   "metadata": {},
   "source": [
    "# Without Any Penatly"
   ]
  },
  {
   "cell_type": "code",
   "execution_count": 7,
   "metadata": {},
   "outputs": [],
   "source": [
    "def logreg_no_penalty():\n",
    "    logreg = LogisticRegression(penalty='none', solver='saga')\n",
    "    logreg.fit(x_train, y_train)\n",
    "    acc_train = logreg.score(x_train, y_train)\n",
    "    acc_test  = logreg.score(x_test, y_test)\n",
    "    return acc_train, acc_test"
   ]
  },
  {
   "cell_type": "code",
   "execution_count": 8,
   "metadata": {},
   "outputs": [
    {
     "name": "stdout",
     "output_type": "stream",
     "text": [
      "Without regularization:\n",
      "\tTraining Accuracy: 80.6500%\n",
      "\tTesting Accuracy : 81.4945%\n"
     ]
    }
   ],
   "source": [
    "acc_train, acc_test = logreg_no_penalty()\n",
    "print(\"Without regularization:\")\n",
    "print(\"\\tTraining Accuracy: {:.4%}\".format(acc_train))\n",
    "print(\"\\tTesting Accuracy : {:.4%}\".format(acc_test))"
   ]
  },
  {
   "cell_type": "markdown",
   "metadata": {},
   "source": [
    "# With L1 Penalty (Lasso)"
   ]
  },
  {
   "cell_type": "code",
   "execution_count": 9,
   "metadata": {},
   "outputs": [],
   "source": [
    "def logreg_lasso(cval):\n",
    "    logreg = LogisticRegression(penalty='l1', C=cval, solver='saga')\n",
    "    logreg.fit(x_train, y_train)\n",
    "    logreg.fit(x_train, y_train)\n",
    "    acc_train = logreg.score(x_train, y_train)\n",
    "    acc_test  = logreg.score(x_test, y_test)\n",
    "    return acc_train, acc_test"
   ]
  },
  {
   "cell_type": "code",
   "execution_count": 10,
   "metadata": {},
   "outputs": [],
   "source": [
    "cvals = [0.0001, 0.001, 0.01, 0.1, 1, 10, 100, 1000, 10000]"
   ]
  },
  {
   "cell_type": "code",
   "execution_count": 11,
   "metadata": {},
   "outputs": [],
   "source": [
    "acc_train_lasso_lst = []\n",
    "acc_test_lasso_lst = []"
   ]
  },
  {
   "cell_type": "code",
   "execution_count": 12,
   "metadata": {},
   "outputs": [
    {
     "name": "stdout",
     "output_type": "stream",
     "text": [
      "L1 regularization, C = 0.0001\n",
      "\tTraining Accuracy: 51.6341%\n",
      "\tTesting Accuracy : 51.5768%\n",
      "L1 regularization, C = 0.001\n",
      "\tTraining Accuracy: 78.9150%\n",
      "\tTesting Accuracy : 79.4705%\n",
      "L1 regularization, C = 0.01\n",
      "\tTraining Accuracy: 80.5145%\n",
      "\tTesting Accuracy : 81.3590%\n",
      "L1 regularization, C = 0.1\n",
      "\tTraining Accuracy: 80.6530%\n",
      "\tTesting Accuracy : 81.4584%\n",
      "L1 regularization, C = 1\n",
      "\tTraining Accuracy: 80.6440%\n",
      "\tTesting Accuracy : 81.4674%\n",
      "L1 regularization, C = 10\n",
      "\tTraining Accuracy: 80.6440%\n",
      "\tTesting Accuracy : 81.4765%\n",
      "L1 regularization, C = 100\n",
      "\tTraining Accuracy: 80.6500%\n",
      "\tTesting Accuracy : 81.4765%\n",
      "L1 regularization, C = 1000\n",
      "\tTraining Accuracy: 80.6500%\n",
      "\tTesting Accuracy : 81.4765%\n",
      "L1 regularization, C = 10000\n",
      "\tTraining Accuracy: 80.6500%\n",
      "\tTesting Accuracy : 81.4765%\n"
     ]
    }
   ],
   "source": [
    "for cval in cvals:\n",
    "    curr_acc_train, curr_acc_test = logreg_lasso(cval)\n",
    "    acc_train_lasso_lst.append(curr_acc_train)\n",
    "    acc_test_lasso_lst.append(curr_acc_test)\n",
    "    print(\"L1 regularization, C =\",cval)\n",
    "    print(\"\\tTraining Accuracy: {:.4%}\".format(curr_acc_train))\n",
    "    print(\"\\tTesting Accuracy : {:.4%}\".format(curr_acc_test))"
   ]
  },
  {
   "cell_type": "code",
   "execution_count": 13,
   "metadata": {},
   "outputs": [
    {
     "data": {
      "image/png": "[encoded data removed]",
      "text/plain": [
       "<Figure size 432x288 with 1 Axes>"
      ]
     },
     "metadata": {
      "needs_background": "light"
     },
     "output_type": "display_data"
    }
   ],
   "source": [
    "plot_graph(\"Logistic Regression with Lasso (L1) Regularization\", cvals, acc_train_lasso_lst, acc_test_lasso_lst)"
   ]
  },
  {
   "cell_type": "markdown",
   "metadata": {},
   "source": [
    "# With L2 Penalty (Ridge)"
   ]
  },
  {
   "cell_type": "code",
   "execution_count": 14,
   "metadata": {},
   "outputs": [],
   "source": [
    "def logreg_ridge(cval):\n",
    "    logreg = LogisticRegression(penalty='l2', C=cval, solver='saga')\n",
    "    logreg.fit(x_train, y_train)\n",
    "    logreg.fit(x_train, y_train)\n",
    "    acc_train = logreg.score(x_train, y_train)\n",
    "    acc_test  = logreg.score(x_test, y_test)\n",
    "    return acc_train, acc_test"
   ]
  },
  {
   "cell_type": "code",
   "execution_count": 15,
   "metadata": {},
   "outputs": [],
   "source": [
    "acc_train_ridge_lst = []\n",
    "acc_test_ridge_lst = []"
   ]
  },
  {
   "cell_type": "code",
   "execution_count": 16,
   "metadata": {},
   "outputs": [
    {
     "name": "stdout",
     "output_type": "stream",
     "text": [
      "L2 regularization, C = 0.0001\n",
      "\tTraining Accuracy: 76.7824%\n",
      "\tTesting Accuracy : 77.3651%\n",
      "L2 regularization, C = 0.001\n",
      "\tTraining Accuracy: 79.9512%\n",
      "\tTesting Accuracy : 80.8349%\n",
      "L2 regularization, C = 0.01\n",
      "\tTraining Accuracy: 80.5627%\n",
      "\tTesting Accuracy : 81.4674%\n",
      "L2 regularization, C = 0.1\n",
      "\tTraining Accuracy: 80.6380%\n",
      "\tTesting Accuracy : 81.4584%\n",
      "L2 regularization, C = 1\n",
      "\tTraining Accuracy: 80.6410%\n",
      "\tTesting Accuracy : 81.4765%\n",
      "L2 regularization, C = 10\n",
      "\tTraining Accuracy: 80.6500%\n",
      "\tTesting Accuracy : 81.4765%\n",
      "L2 regularization, C = 100\n",
      "\tTraining Accuracy: 80.6500%\n",
      "\tTesting Accuracy : 81.4765%\n",
      "L2 regularization, C = 1000\n",
      "\tTraining Accuracy: 80.6500%\n",
      "\tTesting Accuracy : 81.4765%\n",
      "L2 regularization, C = 10000\n",
      "\tTraining Accuracy: 80.6500%\n",
      "\tTesting Accuracy : 81.4765%\n"
     ]
    }
   ],
   "source": [
    "for cval in cvals:\n",
    "    curr_acc_train, curr_acc_test = logreg_ridge(cval)\n",
    "    acc_train_ridge_lst.append(curr_acc_train)\n",
    "    acc_test_ridge_lst.append(curr_acc_test)\n",
    "    print(\"L2 regularization, C =\",cval)\n",
    "    print(\"\\tTraining Accuracy: {:.4%}\".format(curr_acc_train))\n",
    "    print(\"\\tTesting Accuracy : {:.4%}\".format(curr_acc_test))"
   ]
  },
  {
   "cell_type": "code",
   "execution_count": 17,
   "metadata": {},
   "outputs": [
    {
     "data": {
      "image/png": "[encoded data removed]",
      "text/plain": [
       "<Figure size 432x288 with 1 Axes>"
      ]
     },
     "metadata": {
      "needs_background": "light"
     },
     "output_type": "display_data"
    }
   ],
   "source": [
    "plot_graph(\"Logistic Regression with Ridge (L2) Regularization\", cvals, acc_train_ridge_lst, acc_test_ridge_lst)"
   ]
  },
  {
   "cell_type": "markdown",
   "metadata": {},
   "source": [
    "# Polynomial Feature Transformation"
   ]
  },
  {
   "cell_type": "code",
   "execution_count": 18,
   "metadata": {},
   "outputs": [],
   "source": [
    "poly = PolynomialFeatures()\n",
    "x_train = poly.fit_transform(x_train)\n",
    "x_test = poly.fit_transform(x_test)"
   ]
  },
  {
   "cell_type": "markdown",
   "metadata": {},
   "source": [
    "## L1 Penalty"
   ]
  },
  {
   "cell_type": "code",
   "execution_count": 19,
   "metadata": {},
   "outputs": [],
   "source": [
    "acc_train_lasso_lst_poly = []\n",
    "acc_test_lasso_lst_poly = []"
   ]
  },
  {
   "cell_type": "code",
   "execution_count": 20,
   "metadata": {},
   "outputs": [
    {
     "name": "stdout",
     "output_type": "stream",
     "text": [
      "L1 regularization, C = 0.0001\n",
      "\tTraining Accuracy: 51.6341%\n",
      "\tTesting Accuracy : 51.5768%\n",
      "L1 regularization, C = 0.001\n",
      "\tTraining Accuracy: 72.0353%\n",
      "\tTesting Accuracy : 72.4225%\n",
      "L1 regularization, C = 0.01\n",
      "\tTraining Accuracy: 73.7823%\n",
      "\tTesting Accuracy : 74.4917%\n",
      "L1 regularization, C = 0.1\n",
      "\tTraining Accuracy: 73.8757%\n",
      "\tTesting Accuracy : 74.7086%\n",
      "L1 regularization, C = 1\n",
      "\tTraining Accuracy: 73.9028%\n",
      "\tTesting Accuracy : 74.7176%\n",
      "L1 regularization, C = 10\n",
      "\tTraining Accuracy: 73.8878%\n",
      "\tTesting Accuracy : 74.7267%\n",
      "L1 regularization, C = 100\n",
      "\tTraining Accuracy: 73.8908%\n",
      "\tTesting Accuracy : 74.6996%\n",
      "L1 regularization, C = 1000\n",
      "\tTraining Accuracy: 73.8848%\n",
      "\tTesting Accuracy : 74.6724%\n",
      "L1 regularization, C = 10000\n",
      "\tTraining Accuracy: 73.8848%\n",
      "\tTesting Accuracy : 74.6815%\n"
     ]
    }
   ],
   "source": [
    "for cval in cvals:\n",
    "    curr_acc_train, curr_acc_test = logreg_lasso(cval)\n",
    "    acc_train_lasso_lst_poly.append(curr_acc_train)\n",
    "    acc_test_lasso_lst_poly.append(curr_acc_test)\n",
    "    print(\"L1 regularization, C =\",cval)\n",
    "    print(\"\\tTraining Accuracy: {:.4%}\".format(curr_acc_train))\n",
    "    print(\"\\tTesting Accuracy : {:.4%}\".format(curr_acc_test))"
   ]
  },
  {
   "cell_type": "code",
   "execution_count": 26,
   "metadata": {},
   "outputs": [
    {
     "data": {
      "image/png": "[encoded data removed]",
      "text/plain": [
       "<Figure size 432x288 with 1 Axes>"
      ]
     },
     "metadata": {
      "needs_background": "light"
     },
     "output_type": "display_data"
    }
   ],
   "source": [
    "plot_graph(\"Poly Transformation, Logistic Regression, (L1) Regularization\", cvals, acc_train_lasso_lst_poly, acc_test_lasso_lst_poly)"
   ]
  },
  {
   "cell_type": "markdown",
   "metadata": {},
   "source": [
    "## L2 Penalty"
   ]
  },
  {
   "cell_type": "code",
   "execution_count": 22,
   "metadata": {},
   "outputs": [],
   "source": [
    "acc_train_ridge_lst_poly = []\n",
    "acc_test_ridge_lst_poly = []"
   ]
  },
  {
   "cell_type": "code",
   "execution_count": 23,
   "metadata": {},
   "outputs": [
    {
     "name": "stdout",
     "output_type": "stream",
     "text": [
      "L2 regularization, C = 0.0001\n",
      "\tTraining Accuracy: 73.6920%\n",
      "\tTesting Accuracy : 74.5098%\n",
      "L2 regularization, C = 0.001\n",
      "\tTraining Accuracy: 73.8637%\n",
      "\tTesting Accuracy : 74.6453%\n",
      "L2 regularization, C = 0.01\n",
      "\tTraining Accuracy: 73.8998%\n",
      "\tTesting Accuracy : 74.6996%\n",
      "L2 regularization, C = 0.1\n",
      "\tTraining Accuracy: 73.8938%\n",
      "\tTesting Accuracy : 74.7086%\n",
      "L2 regularization, C = 1\n",
      "\tTraining Accuracy: 73.8938%\n",
      "\tTesting Accuracy : 74.7357%\n",
      "L2 regularization, C = 10\n",
      "\tTraining Accuracy: 73.8817%\n",
      "\tTesting Accuracy : 74.7086%\n",
      "L2 regularization, C = 100\n",
      "\tTraining Accuracy: 73.8787%\n",
      "\tTesting Accuracy : 74.6724%\n",
      "L2 regularization, C = 1000\n",
      "\tTraining Accuracy: 73.8878%\n",
      "\tTesting Accuracy : 74.7267%\n",
      "L2 regularization, C = 10000\n",
      "\tTraining Accuracy: 73.8817%\n",
      "\tTesting Accuracy : 74.7086%\n"
     ]
    }
   ],
   "source": [
    "for cval in cvals:\n",
    "    curr_acc_train, curr_acc_test = logreg_ridge(cval)\n",
    "    acc_train_ridge_lst_poly.append(curr_acc_train)\n",
    "    acc_test_ridge_lst_poly.append(curr_acc_test)\n",
    "    print(\"L2 regularization, C =\",cval)\n",
    "    print(\"\\tTraining Accuracy: {:.4%}\".format(curr_acc_train))\n",
    "    print(\"\\tTesting Accuracy : {:.4%}\".format(curr_acc_test))"
   ]
  },
  {
   "cell_type": "code",
   "execution_count": 25,
   "metadata": {},
   "outputs": [
    {
     "data": {
      "image/png": "[encoded data removed]",
      "text/plain": [
       "<Figure size 432x288 with 1 Axes>"
      ]
     },
     "metadata": {
      "needs_background": "light"
     },
     "output_type": "display_data"
    }
   ],
   "source": [
    "plot_graph(\"Poly Transformation, Logistic Regression, (L2) Regularization\", cvals, acc_train_ridge_lst_poly, acc_test_ridge_lst_poly)"
   ]
  },
  {
   "cell_type": "code",
   "execution_count": null,
   "metadata": {},
   "outputs": [],
   "source": []
  },
  {
   "cell_type": "markdown",
   "metadata": {},
   "source": [
    "<!-- # Conclusion\n",
    "Having no regularization produced the best accuracy. On my machine, it was *impossible* to try and apply the LogisticRegression model after performing a polynomial feature transformation using `fit_transform`. Thus, the code is commented out. Feel free to uncomment it and try it out yourself. -->"
   ]
  }
 ],
 "metadata": {
  "kernelspec": {
   "display_name": "Python 3",
   "language": "python",
   "name": "python3"
  },
  "language_info": {
   "codemirror_mode": {
    "name": "ipython",
    "version": 3
   },
   "file_extension": ".py",
   "mimetype": "text/x-python",
   "name": "python",
   "nbconvert_exporter": "python",
   "pygments_lexer": "ipython3",
   "version": "3.6.9"
  }
 },
 "nbformat": 4,
 "nbformat_minor": 4
}
