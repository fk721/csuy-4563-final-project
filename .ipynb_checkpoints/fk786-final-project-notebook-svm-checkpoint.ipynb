{
 "cells": [
  {
   "cell_type": "markdown",
   "metadata": {},
   "source": [
    "# Importing the Necessary Libraries"
   ]
  },
  {
   "cell_type": "code",
   "execution_count": 1,
   "metadata": {},
   "outputs": [],
   "source": [
    "import numpy as np\n",
    "import pandas as pd\n",
    "from sklearn import preprocessing\n",
    "from sklearn.model_selection import train_test_split\n",
    "from sklearn import svm\n",
    "import matplotlib.pyplot as plt"
   ]
  },
  {
   "cell_type": "markdown",
   "metadata": {},
   "source": [
    "# Reading the Preprocessed Data"
   ]
  },
  {
   "cell_type": "code",
   "execution_count": 2,
   "metadata": {},
   "outputs": [
    {
     "data": {
      "text/plain": [
       "(44266, 16)"
      ]
     },
     "execution_count": 2,
     "metadata": {},
     "output_type": "execute_result"
    }
   ],
   "source": [
    "df = pd.read_csv('csv_files/count_vectorized_text.csv')\n",
    "df.shape"
   ]
  },
  {
   "cell_type": "code",
   "execution_count": 3,
   "metadata": {},
   "outputs": [
    {
     "name": "stdout",
     "output_type": "stream",
     "text": [
      "The shape of X: (44266, 15)\n",
      "The shape of Y: (44266,)\n"
     ]
    }
   ],
   "source": [
    "num_features = df.shape[1] - 1\n",
    "df1 = df.values\n",
    "X = df1[:, :num_features]\n",
    "X = preprocessing.scale(X)\n",
    "Y = df1[:,num_features:]\n",
    "Y = np.reshape(Y, (Y.shape[0], ))\n",
    "print(\"The shape of X:\",X.shape)\n",
    "print(\"The shape of Y:\",Y.shape)"
   ]
  },
  {
   "cell_type": "code",
   "execution_count": 4,
   "metadata": {},
   "outputs": [],
   "source": [
    "x_train, x_test, y_train, y_test = train_test_split(X, Y, test_size = 0.25, shuffle=True)"
   ]
  },
  {
   "cell_type": "markdown",
   "metadata": {},
   "source": [
    "# SVM\n",
    "Pieces/inspriation of the following code are taken from *Homework Assignment 5*."
   ]
  },
  {
   "cell_type": "code",
   "execution_count": 5,
   "metadata": {},
   "outputs": [],
   "source": [
    "def plot_graph(title, x, y1, y2):\n",
    "    plt.title(title)\n",
    "    plt.ylim([0.50, 0.90])\n",
    "    plt.xlabel(\"C\")\n",
    "    plt.ylabel(\"Accuracy\")\n",
    "    plt.plot(x, y1)\n",
    "    plt.plot(x, y2)\n",
    "    plt.xscale(\"log\")\n",
    "    plt.legend(['Training Accuracy', 'Test Accuracy'], loc='lower right')\n",
    "    plt.show()"
   ]
  },
  {
   "cell_type": "markdown",
   "metadata": {},
   "source": [
    "## Linear Kernel"
   ]
  },
  {
   "cell_type": "code",
   "execution_count": 6,
   "metadata": {},
   "outputs": [],
   "source": [
    "def svm_linear(cval):\n",
    "    svc_linear = svm.SVC(probability = False, kernel = 'linear', C = cval)\n",
    "    svc_linear.fit(x_train, y_train)\n",
    "    acc_train = svc_linear.score(x_train, y_train)\n",
    "    acc_test = svc_linear.score(x_test, y_test)\n",
    "    return acc_train, acc_test"
   ]
  },
  {
   "cell_type": "code",
   "execution_count": 7,
   "metadata": {},
   "outputs": [],
   "source": [
    "cvals = [0.0001, 0.001, 0.01, 0.1, 1, 10]"
   ]
  },
  {
   "cell_type": "code",
   "execution_count": 8,
   "metadata": {},
   "outputs": [],
   "source": [
    "acc_train_svm_linear_lst = []\n",
    "acc_test_svm_linear_lst = []"
   ]
  },
  {
   "cell_type": "code",
   "execution_count": 9,
   "metadata": {},
   "outputs": [
    {
     "name": "stdout",
     "output_type": "stream",
     "text": [
      "SVM Linear, C = 0.0001\n",
      "\tTraining Accuracy: 73.7462%\n",
      "\tTesting Accuracy : 72.9466%\n",
      "SVM Linear, C = 0.001\n",
      "\tTraining Accuracy: 79.8789%\n",
      "\tTesting Accuracy : 78.8832%\n",
      "SVM Linear, C = 0.01\n",
      "\tTraining Accuracy: 80.8398%\n",
      "\tTesting Accuracy : 80.1120%\n",
      "SVM Linear, C = 0.1\n",
      "\tTraining Accuracy: 80.8759%\n",
      "\tTesting Accuracy : 80.2837%\n",
      "SVM Linear, C = 1\n",
      "\tTraining Accuracy: 80.8820%\n",
      "\tTesting Accuracy : 80.2747%\n",
      "SVM Linear, C = 10\n",
      "\tTraining Accuracy: 80.8910%\n",
      "\tTesting Accuracy : 80.2566%\n"
     ]
    }
   ],
   "source": [
    "for cval in cvals:\n",
    "    curr_acc_train, curr_acc_test = svm_linear(cval)\n",
    "    acc_train_svm_linear_lst.append(curr_acc_train)\n",
    "    acc_test_svm_linear_lst.append(curr_acc_test)\n",
    "    print(\"SVM Linear, C =\",cval)\n",
    "    print(\"\\tTraining Accuracy: {:.4%}\".format(curr_acc_train))\n",
    "    print(\"\\tTesting Accuracy : {:.4%}\".format(curr_acc_test))"
   ]
  },
  {
   "cell_type": "code",
   "execution_count": 10,
   "metadata": {},
   "outputs": [
    {
     "data": {
      "image/png": "[encoded data removed]",
      "text/plain": [
       "<Figure size 432x288 with 1 Axes>"
      ]
     },
     "metadata": {
      "needs_background": "light"
     },
     "output_type": "display_data"
    }
   ],
   "source": [
    "plot_graph(\"SVM, Linear Kernel\", cvals, acc_train_svm_linear_lst, acc_test_svm_linear_lst)"
   ]
  },
  {
   "cell_type": "markdown",
   "metadata": {},
   "source": [
    "## RBF Kernel"
   ]
  },
  {
   "cell_type": "code",
   "execution_count": 11,
   "metadata": {},
   "outputs": [],
   "source": [
    "def svm_rbf(cval):\n",
    "    svc_rbf = svm.SVC(probability = False, kernel = 'rbf', C = cval)\n",
    "    svc_rbf.fit(x_train, y_train)\n",
    "    acc_train = svc_rbf.score(x_train, y_train)\n",
    "    acc_test = svc_rbf.score(x_test, y_test)\n",
    "    return acc_train, acc_test"
   ]
  },
  {
   "cell_type": "code",
   "execution_count": 12,
   "metadata": {},
   "outputs": [],
   "source": [
    "acc_train_svm_rbf_lst = []\n",
    "acc_test_svm_rbf_lst = []"
   ]
  },
  {
   "cell_type": "code",
   "execution_count": 13,
   "metadata": {},
   "outputs": [
    {
     "name": "stdout",
     "output_type": "stream",
     "text": [
      "SVM RBF, C = 0.0001\n",
      "\tTraining Accuracy: 51.8329%\n",
      "\tTesting Accuracy : 50.9804%\n",
      "SVM RBF, C = 0.001\n",
      "\tTraining Accuracy: 71.6558%\n",
      "\tTesting Accuracy : 70.8503%\n",
      "SVM RBF, C = 0.01\n",
      "\tTraining Accuracy: 81.6982%\n",
      "\tTesting Accuracy : 80.8349%\n",
      "SVM RBF, C = 0.1\n",
      "\tTraining Accuracy: 84.3519%\n",
      "\tTesting Accuracy : 83.4824%\n",
      "SVM RBF, C = 1\n",
      "\tTraining Accuracy: 86.8460%\n",
      "\tTesting Accuracy : 85.4342%\n",
      "SVM RBF, C = 10\n",
      "\tTraining Accuracy: 88.8159%\n",
      "\tTesting Accuracy : 86.2926%\n"
     ]
    }
   ],
   "source": [
    "for cval in cvals:\n",
    "    curr_acc_train, curr_acc_test = svm_rbf(cval)\n",
    "    acc_train_svm_rbf_lst.append(curr_acc_train)\n",
    "    acc_test_svm_rbf_lst.append(curr_acc_test)\n",
    "    print(\"SVM RBF, C =\",cval)\n",
    "    print(\"\\tTraining Accuracy: {:.4%}\".format(curr_acc_train))\n",
    "    print(\"\\tTesting Accuracy : {:.4%}\".format(curr_acc_test))"
   ]
  },
  {
   "cell_type": "code",
   "execution_count": 15,
   "metadata": {},
   "outputs": [
    {
     "data": {
      "image/png": "[encoded data removed]",
      "text/plain": [
       "<Figure size 432x288 with 1 Axes>"
      ]
     },
     "metadata": {
      "needs_background": "light"
     },
     "output_type": "display_data"
    }
   ],
   "source": [
    "plot_graph(\"SVM, RBF Kernel\", cvals, acc_train_svm_rbf_lst, acc_test_svm_rbf_lst)"
   ]
  },
  {
   "cell_type": "markdown",
   "metadata": {},
   "source": [
    "## Polynomial Kernel"
   ]
  },
  {
   "cell_type": "code",
   "execution_count": 16,
   "metadata": {},
   "outputs": [],
   "source": [
    "def svm_poly(cval):\n",
    "    svc_rbf = svm.SVC(probability = False, kernel = 'poly', C = cval)\n",
    "    svc_rbf.fit(x_train, y_train)\n",
    "    acc_train = svc_rbf.score(x_train, y_train)\n",
    "    acc_test = svc_rbf.score(x_test, y_test)\n",
    "    return acc_train, acc_test"
   ]
  },
  {
   "cell_type": "code",
   "execution_count": 17,
   "metadata": {},
   "outputs": [],
   "source": [
    "acc_train_svm_poly_lst = []\n",
    "acc_test_svm_poly_lst = []"
   ]
  },
  {
   "cell_type": "code",
   "execution_count": 18,
   "metadata": {},
   "outputs": [
    {
     "name": "stdout",
     "output_type": "stream",
     "text": [
      "SVM Polynomial, C = 0.0001\n",
      "\tTraining Accuracy: 52.6040%\n",
      "\tTesting Accuracy : 51.9292%\n",
      "SVM Polynomial, C = 0.001\n",
      "\tTraining Accuracy: 56.5951%\n",
      "\tTesting Accuracy : 55.7604%\n",
      "SVM Polynomial, C = 0.01\n",
      "\tTraining Accuracy: 64.4477%\n",
      "\tTesting Accuracy : 63.8927%\n",
      "SVM Polynomial, C = 0.1\n",
      "\tTraining Accuracy: 78.8277%\n",
      "\tTesting Accuracy : 77.5097%\n",
      "SVM Polynomial, C = 1\n",
      "\tTraining Accuracy: 83.1531%\n",
      "\tTesting Accuracy : 81.9734%\n",
      "SVM Polynomial, C = 10\n",
      "\tTraining Accuracy: 83.7525%\n",
      "\tTesting Accuracy : 81.9734%\n"
     ]
    }
   ],
   "source": [
    "for cval in cvals:\n",
    "    curr_acc_train, curr_acc_test = svm_poly(cval)\n",
    "    acc_train_svm_poly_lst.append(curr_acc_train)\n",
    "    acc_test_svm_poly_lst.append(curr_acc_test)\n",
    "    print(\"SVM Polynomial, C =\",cval)\n",
    "    print(\"\\tTraining Accuracy: {:.4%}\".format(curr_acc_train))\n",
    "    print(\"\\tTesting Accuracy : {:.4%}\".format(curr_acc_test))"
   ]
  },
  {
   "cell_type": "code",
   "execution_count": 19,
   "metadata": {},
   "outputs": [
    {
     "data": {
      "image/png": "[encoded data removed]",
      "text/plain": [
       "<Figure size 432x288 with 1 Axes>"
      ]
     },
     "metadata": {
      "needs_background": "light"
     },
     "output_type": "display_data"
    }
   ],
   "source": [
    "plot_graph(\"SVM, Polynomial Kernel\", cvals, acc_train_svm_poly_lst, acc_test_svm_poly_lst)"
   ]
  },
  {
   "cell_type": "markdown",
   "metadata": {},
   "source": [
    "## More on RBF\n",
    "Woah SVM looks the most promising, as *C* increases. Just for fun, let's set C = 100 and see what happens."
   ]
  },
  {
   "cell_type": "code",
   "execution_count": 20,
   "metadata": {},
   "outputs": [
    {
     "name": "stdout",
     "output_type": "stream",
     "text": [
      "SVM RBF, C = 100\n",
      "\tTraining Accuracy: 90.8039%\n",
      "\tTesting Accuracy : 85.9492%\n"
     ]
    }
   ],
   "source": [
    "curr_acc_train, curr_acc_test = svm_rbf(100)\n",
    "print(\"SVM RBF, C = 100\")\n",
    "print(\"\\tTraining Accuracy: {:.4%}\".format(curr_acc_train))\n",
    "print(\"\\tTesting Accuracy : {:.4%}\".format(curr_acc_test))"
   ]
  },
  {
   "cell_type": "code",
   "execution_count": null,
   "metadata": {},
   "outputs": [],
   "source": []
  }
 ],
 "metadata": {
  "kernelspec": {
   "display_name": "Python 3",
   "language": "python",
   "name": "python3"
  },
  "language_info": {
   "codemirror_mode": {
    "name": "ipython",
    "version": 3
   },
   "file_extension": ".py",
   "mimetype": "text/x-python",
   "name": "python",
   "nbconvert_exporter": "python",
   "pygments_lexer": "ipython3",
   "version": "3.6.9"
  }
 },
 "nbformat": 4,
 "nbformat_minor": 4
}
